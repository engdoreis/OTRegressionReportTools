{
  "cells": [
    {
      "cell_type": "markdown",
      "metadata": {
        "id": "vj7AjbHjniTI"
      },
      "source": [
        "# Utils\n",
        "\n"
      ]
    },
    {
      "cell_type": "code",
      "execution_count": null,
      "metadata": {},
      "outputs": [],
      "source": [
        "import sys\n",
        "\n",
        "if 'google.colab' in str(get_ipython()):\n",
        "    from google.colab import files\n",
        "    !rm -rf github && mkdir github && cd github && git clone --branch main https://github.com/engdoreis/OTRegressionReportTools.git && echo $pwd\n",
        "    sys.path.append('github/OTRegressionReportTools')\n",
        "\n",
        "import IPython\n",
        "import ipywidgets as widgets\n",
        "from IPython.display import HTML\n",
        "from OT_regression_report_parser import *"
      ]
    },
    {
      "cell_type": "markdown",
      "metadata": {
        "id": "oE6x4O7yXosm"
      },
      "source": [
        "# Configs"
      ]
    },
    {
      "cell_type": "code",
      "execution_count": null,
      "metadata": {
        "id": "AcjqOqF1XuLL"
      },
      "outputs": [],
      "source": [
        "\n",
        "pd.set_option('display.max_rows', 400)\n",
        "class Config:\n",
        "  black_list_days = ['2022-10-28', '2022-10-29', '2022-10-30', '2022-10-31']\n",
        "  max_reports = 15                        # The amount of older reports should be processed.\n",
        "  healthy_executions_threshold = 5        # The amount of successful execution will be considered healthy and filtered out.\n",
        "  hide_healthy_tests = True               # Hide test considered healthy according to `healthy_executions_threshold`.\n",
        "  hide_empty_tests = True                 # Hide not implemented tests.\n",
        "  invert_columns_order = True             # False : The latest will show in the right.\n",
        "  sort_tests_by_failure = True            # Show the test failing on the top.\n",
        "  attach_github_issues = True             # Search and link opened github issues.\n",
        "  add_build_data = False                  # Add github revision and build seed.\n",
        "  hide_passrate = False                   # Hide the cells content and show the background color only.\n",
        "  base_url = 'https://reports.opentitan.org/hw/top_earlgrey/dv/'\n",
        "report = RegressionReportParser(Config())"
      ]
    },
    {
      "cell_type": "markdown",
      "metadata": {
        "id": "bzLX13si9Qf3"
      },
      "source": [
        "# Test results"
      ]
    },
    {
      "cell_type": "code",
      "execution_count": null,
      "metadata": {
        "colab": {
          "base_uri": "https://localhost:8080/",
          "height": 411
        },
        "id": "Cef44uIeIZQ4",
        "outputId": "17af83eb-cca2-4e37-bd7f-c93589fbcc81"
      },
      "outputs": [],
      "source": [
        "test_report = report.generate_test_results_report()\n",
        "HTML(report.format_dataframe(test_report).render())"
      ]
    },
    {
      "cell_type": "code",
      "execution_count": null,
      "metadata": {
        "colab": {
          "base_uri": "https://localhost:8080/",
          "height": 49,
          "referenced_widgets": [
            "032833b6dd5444828193edde5d0c0f45",
            "8fcd5758a1414fa583814f443ae9386c",
            "f046d69bab9a4ef29a4a01196e18dd1c"
          ]
        },
        "id": "z4OSAoPUVPzk",
        "outputId": "fcd08cf9-5dc6-44e1-9134-a440efb5758b"
      },
      "outputs": [],
      "source": [
        "open('report.html', 'w').write(report.format_dataframe(test_report).render())\n",
        "btn = widgets.Button(description='Download report')\n",
        "btn.on_click(lambda x: files.download('report.html'))\n",
        "btn"
      ]
    },
    {
      "cell_type": "markdown",
      "metadata": {
        "id": "Mxjrnow_fCLE"
      },
      "source": [
        "# Progress"
      ]
    },
    {
      "cell_type": "code",
      "execution_count": null,
      "metadata": {
        "colab": {
          "base_uri": "https://localhost:8080/",
          "height": 650
        },
        "id": "HU6xJFw4fHVf",
        "outputId": "d7bfca07-ed78-461a-bcb8-f42d1218bbb2"
      },
      "outputs": [],
      "source": [
        "test_progress = report.generate_testplan_progress_report()\n",
        "display(test_progress)\n",
        "test_progress.transpose().plot.bar(figsize=(38,6),rot=45)"
      ]
    },
    {
      "cell_type": "markdown",
      "metadata": {
        "id": "gRXiwerirMmi"
      },
      "source": [
        "# Pareto\n"
      ]
    },
    {
      "cell_type": "code",
      "execution_count": null,
      "metadata": {
        "colab": {
          "base_uri": "https://localhost:8080/",
          "height": 206
        },
        "id": "K87giTMJrQsg",
        "outputId": "81b0d128-9595-4890-983f-0f2e898eff39"
      },
      "outputs": [],
      "source": [
        "err = report.generate_errors_report()\n",
        "display(err)"
      ]
    },
    {
      "cell_type": "code",
      "execution_count": null,
      "metadata": {
        "colab": {
          "base_uri": "https://localhost:8080/",
          "height": 391
        },
        "id": "ml_erk4qwwtn",
        "outputId": "d99eb16f-2a63-4280-8d7b-9e1077f3a1e7"
      },
      "outputs": [],
      "source": [
        "ax = err.plot(figsize=(32,6), kind='bar', y='Error%', color='darkred')\n",
        "err.plot(figsize=(32,6), kind='line',  y='cumError%', grid=True, color='darkblue', ax=ax)"
      ]
    },
    {
      "cell_type": "markdown",
      "metadata": {
        "id": "ZwN7OmMzLKuq"
      },
      "source": [
        "# List of issues that can be closed\n",
        "TODO"
      ]
    },
    {
      "cell_type": "markdown",
      "metadata": {
        "id": "vU7KZ0rSLeZG"
      },
      "source": [
        "# Tests ramp up\n"
      ]
    },
    {
      "cell_type": "code",
      "execution_count": null,
      "metadata": {
        "colab": {
          "base_uri": "https://localhost:8080/",
          "height": 694
        },
        "id": "S6oYWUgyVXgn",
        "outputId": "ec387f32-ee42-47a8-bfc3-898113d7760f"
      },
      "outputs": [],
      "source": [
        "df = report.generate_tests_rampup(test_report)\n",
        "fig, ax = plt.subplots(figsize=(32,12))\n",
        "df.plot(ax=ax, kind='line', grid=False, ylabel='Amount of tests', xlabel='days', x='Date', marker='x').legend(loc='upper center')\n",
        "df.iloc[0::len(df.index)-1,:].apply(lambda row: ax.annotate(f'{row.Count} [{row.Date.strftime(\"%d/%b\")}]', xy=(row.Date, row.Count-1), fontsize=14, rotation=0, color='darkred') ,axis=1)\n",
        "ax.annotate(f'Increase of {round((df.Count.iloc[-1]/df.Count.iloc[0]-1)*100,1)}%', xy=(df.Date.iloc[0], df.Count.iloc[-2]), fontsize=16, color='darkred')\n",
        "plt.show()"
      ]
    },
    {
      "cell_type": "markdown",
      "metadata": {
        "id": "2HZCrem6zGNH"
      },
      "source": [
        "# Status by Test\n",
        "This cell is intented to help filling the github issues with a nice table before closing it. The output is a markdown which can be copied and pasted in the github issue.\n",
        "The search accepts partial matching and multiple tests can be matched using `|` (or) pattern."
      ]
    },
    {
      "cell_type": "code",
      "execution_count": null,
      "metadata": {
        "colab": {
          "base_uri": "https://localhost:8080/"
        },
        "id": "Vsme_9zb1DG1",
        "outputId": "da0034d0-5f7f-47f1-8129-c4e4512c96fa"
      },
      "outputs": [],
      "source": [
        "print(report.generate_test_results_report(by='chip_csr_mem_rw_with_rand_reset timeout').to_markdown())"
      ]
    }
  ],
  "metadata": {
    "colab": {
      "collapsed_sections": [
        "vj7AjbHjniTI"
      ],
      "provenance": []
    },
    "kernelspec": {
      "display_name": "Python 3.8.10 64-bit",
      "language": "python",
      "name": "python3"
    },
    "language_info": {
      "codemirror_mode": {
        "name": "ipython",
        "version": 3
      },
      "file_extension": ".py",
      "mimetype": "text/x-python",
      "name": "python",
      "nbconvert_exporter": "python",
      "pygments_lexer": "ipython3",
      "version": "3.8.10"
    },
    "vscode": {
      "interpreter": {
        "hash": "31f2aee4e71d21fbe5cf8b01ff0e069b9275f58929596ceb00d14d90e3e16cd6"
      }
    },
    "widgets": {
      "application/vnd.jupyter.widget-state+json": {
        "032833b6dd5444828193edde5d0c0f45": {
          "model_module": "@jupyter-widgets/controls",
          "model_module_version": "1.5.0",
          "model_name": "ButtonModel",
          "state": {
            "_dom_classes": [],
            "_model_module": "@jupyter-widgets/controls",
            "_model_module_version": "1.5.0",
            "_model_name": "ButtonModel",
            "_view_count": null,
            "_view_module": "@jupyter-widgets/controls",
            "_view_module_version": "1.5.0",
            "_view_name": "ButtonView",
            "button_style": "",
            "description": "Download report",
            "disabled": false,
            "icon": "",
            "layout": "IPY_MODEL_8fcd5758a1414fa583814f443ae9386c",
            "style": "IPY_MODEL_f046d69bab9a4ef29a4a01196e18dd1c",
            "tooltip": ""
          }
        },
        "8fcd5758a1414fa583814f443ae9386c": {
          "model_module": "@jupyter-widgets/base",
          "model_module_version": "1.2.0",
          "model_name": "LayoutModel",
          "state": {
            "_model_module": "@jupyter-widgets/base",
            "_model_module_version": "1.2.0",
            "_model_name": "LayoutModel",
            "_view_count": null,
            "_view_module": "@jupyter-widgets/base",
            "_view_module_version": "1.2.0",
            "_view_name": "LayoutView",
            "align_content": null,
            "align_items": null,
            "align_self": null,
            "border": null,
            "bottom": null,
            "display": null,
            "flex": null,
            "flex_flow": null,
            "grid_area": null,
            "grid_auto_columns": null,
            "grid_auto_flow": null,
            "grid_auto_rows": null,
            "grid_column": null,
            "grid_gap": null,
            "grid_row": null,
            "grid_template_areas": null,
            "grid_template_columns": null,
            "grid_template_rows": null,
            "height": null,
            "justify_content": null,
            "justify_items": null,
            "left": null,
            "margin": null,
            "max_height": null,
            "max_width": null,
            "min_height": null,
            "min_width": null,
            "object_fit": null,
            "object_position": null,
            "order": null,
            "overflow": null,
            "overflow_x": null,
            "overflow_y": null,
            "padding": null,
            "right": null,
            "top": null,
            "visibility": null,
            "width": null
          }
        },
        "f046d69bab9a4ef29a4a01196e18dd1c": {
          "model_module": "@jupyter-widgets/controls",
          "model_module_version": "1.5.0",
          "model_name": "ButtonStyleModel",
          "state": {
            "_model_module": "@jupyter-widgets/controls",
            "_model_module_version": "1.5.0",
            "_model_name": "ButtonStyleModel",
            "_view_count": null,
            "_view_module": "@jupyter-widgets/base",
            "_view_module_version": "1.2.0",
            "_view_name": "StyleView",
            "button_color": null,
            "font_weight": ""
          }
        }
      }
    }
  },
  "nbformat": 4,
  "nbformat_minor": 0
}
